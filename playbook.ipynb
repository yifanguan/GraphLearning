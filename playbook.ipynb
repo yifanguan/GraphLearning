{
 "cells": [
  {
   "cell_type": "code",
   "execution_count": 3,
   "id": "0afa1a8a",
   "metadata": {},
   "outputs": [],
   "source": [
    "# This is a playbook used to examine the structure of different experiment datasets\n",
    "from torch_geometric.datasets import Planetoid"
   ]
  },
  {
   "cell_type": "code",
   "execution_count": null,
   "id": "e174beaa",
   "metadata": {},
   "outputs": [],
   "source": [
    "dataset = Planetoid(root='data/Planetoid', name=dataset_name, transform=T.NormalizeFeatures())\n",
    "print(f'Dataset: {dataset}:')\n",
    "print('Number of graphs:', len(dataset))\n",
    "print('Number of features:', dataset.num_features)\n",
    "print('Number of classes:', dataset.num_classes)\n",
    "\n",
    "data = dataset[0]  # Cora has only one graph\n",
    "\n",
    "print(data)\n",
    "print('Number of nodes:', data.num_nodes)\n",
    "print('Number of edges:', data.num_edges)\n",
    "print('Training nodes:', data.train_mask.sum().item())"
   ]
  }
 ],
 "metadata": {
  "kernelspec": {
   "display_name": "venv",
   "language": "python",
   "name": "python3"
  },
  "language_info": {
   "codemirror_mode": {
    "name": "ipython",
    "version": 3
   },
   "file_extension": ".py",
   "mimetype": "text/x-python",
   "name": "python",
   "nbconvert_exporter": "python",
   "pygments_lexer": "ipython3",
   "version": "3.11.13"
  }
 },
 "nbformat": 4,
 "nbformat_minor": 5
}
